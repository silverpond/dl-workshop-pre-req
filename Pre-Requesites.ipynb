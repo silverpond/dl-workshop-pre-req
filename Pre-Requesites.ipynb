{
 "cells": [
  {
   "cell_type": "markdown",
   "metadata": {},
   "source": [
    "# Intro to Python for DLW\n",
    "\n",
    "The SilverPond DLW will be taught using Python, Numpy and Tensorflow. The content will be presented via Jupyter Notebooks (you're in one)...how to notebook\n"
   ]
  },
  {
   "cell_type": "code",
   "execution_count": 1,
   "metadata": {},
   "outputs": [],
   "source": [
    "# importing libraries\n",
    "import numpy as np\n",
    "import tensorflow as tf"
   ]
  },
  {
   "cell_type": "markdown",
   "metadata": {},
   "source": [
    "Tuples and Lists"
   ]
  },
  {
   "cell_type": "code",
   "execution_count": 2,
   "metadata": {},
   "outputs": [
    {
     "name": "stdout",
     "output_type": "stream",
     "text": [
      "two_ele_tuple: (20, 21)\n",
      "one_ele_tuple: (22,)\n",
      "a_num_in_parentheses: 24\n"
     ]
    }
   ],
   "source": [
    "'''Tuples are defined using (parentheses)'''\n",
    "two_ele_tuple        = (20, 21)\n",
    "one_ele_tuple        = (22,)        # Note this is not the same as (22). The trailing ',' tells python to treat this as a tupel and NOT a number that is just in parentheses.\n",
    "a_num_in_parentheses = (24)         # NOT a tuple!\n",
    "\n",
    "print(\"two_ele_tuple: {}\".format(two_ele_tuple))\n",
    "print(\"one_ele_tuple: {}\".format(one_ele_tuple))\n",
    "print(\"a_num_in_parentheses: {}\".format(a_num_in_parentheses))"
   ]
  },
  {
   "cell_type": "code",
   "execution_count": 3,
   "metadata": {},
   "outputs": [
    {
     "name": "stdout",
     "output_type": "stream",
     "text": [
      "two_ele_list: [20, 21]\n",
      "one_ele_list: [22]\n",
      "also_a_one_ele_list: [24]\n"
     ]
    }
   ],
   "source": [
    "'''Lists are defined by [square braces]'''\n",
    "two_ele_list        = [20, 21]\n",
    "one_ele_list        = [22,]        # Note the trailing ',' is not nessessary when declaring lists.\n",
    "also_a_one_ele_list = [24]         # Also a list\n",
    "\n",
    "print(\"two_ele_list: {}\".format(two_ele_list))\n",
    "print(\"one_ele_list: {}\".format(one_ele_list))\n",
    "print(\"also_a_one_ele_list: {}\".format(also_a_one_ele_list))"
   ]
  },
  {
   "cell_type": "code",
   "execution_count": 4,
   "metadata": {},
   "outputs": [
    {
     "name": "stdout",
     "output_type": "stream",
     "text": [
      "idx 1 of tup0: 3\n",
      "idx 1 of list0: 6\n"
     ]
    }
   ],
   "source": [
    "'''Tuples and lists are indexable'''\n",
    "tup0  = (2,3,4)\n",
    "list0 = [5,6,7] \n",
    "print(\"idx 1 of tup0: {}\".format(tup0[1]))\n",
    "print(\"idx 1 of list0: {}\".format(list0[1]))"
   ]
  },
  {
   "cell_type": "code",
   "execution_count": 5,
   "metadata": {},
   "outputs": [
    {
     "name": "stdout",
     "output_type": "stream",
     "text": [
      "idx 0: 1\n",
      "idx 1: one\n",
      "idx 2: 3.14159\n",
      "idx 3: [1, 2, 3]\n",
      "idx 1 of tup1[3]: 2\n"
     ]
    }
   ],
   "source": [
    "'''Tuples can have more than one data type. Lists cannot'''\n",
    "tup1 = (1, \"one\", 3.14159, [1,2,3])\n",
    "print(\"idx 0: {}\".format(tup1[0]))\n",
    "print(\"idx 1: {}\".format(tup1[1]))\n",
    "print(\"idx 2: {}\".format(tup1[2]))\n",
    "print(\"idx 3: {}\".format(tup1[3]))\n",
    "print(\"idx 1 of tup1[3]: {}\".format(tup1[3][1]))"
   ]
  },
  {
   "cell_type": "code",
   "execution_count": 6,
   "metadata": {},
   "outputs": [
    {
     "name": "stdout",
     "output_type": "stream",
     "text": [
      "list1: [1, 2, 3]\n",
      "list1: [4, 2, 3]\n"
     ]
    }
   ],
   "source": [
    "'''List elements can be over-written'''\n",
    "list1 = [1,2,3]\n",
    "print(\"list1: {}\".format(list1))\n",
    "list1[0] = 4\n",
    "print(\"list1: {}\".format(list1))"
   ]
  },
  {
   "cell_type": "code",
   "execution_count": 7,
   "metadata": {},
   "outputs": [
    {
     "ename": "TypeError",
     "evalue": "'tuple' object does not support item assignment",
     "output_type": "error",
     "traceback": [
      "\u001b[0;31m---------------------------------------------------------------------------\u001b[0m",
      "\u001b[0;31mTypeError\u001b[0m                                 Traceback (most recent call last)",
      "\u001b[0;32m<ipython-input-7-f2a81877a63f>\u001b[0m in \u001b[0;36m<module>\u001b[0;34m()\u001b[0m\n\u001b[1;32m      1\u001b[0m \u001b[0;34m'''Tuples are immutable'''\u001b[0m\u001b[0;34m\u001b[0m\u001b[0m\n\u001b[1;32m      2\u001b[0m \u001b[0mtup2\u001b[0m \u001b[0;34m=\u001b[0m \u001b[0;34m(\u001b[0m\u001b[0;36m1\u001b[0m\u001b[0;34m,\u001b[0m\u001b[0;36m2\u001b[0m\u001b[0;34m,\u001b[0m\u001b[0;36m3\u001b[0m\u001b[0;34m)\u001b[0m\u001b[0;34m\u001b[0m\u001b[0m\n\u001b[0;32m----> 3\u001b[0;31m \u001b[0mtup2\u001b[0m\u001b[0;34m[\u001b[0m\u001b[0;36m0\u001b[0m\u001b[0;34m]\u001b[0m \u001b[0;34m=\u001b[0m \u001b[0;36m4\u001b[0m\u001b[0;34m\u001b[0m\u001b[0m\n\u001b[0m\u001b[1;32m      4\u001b[0m \u001b[0;34m'''THIS WILL THROW AN ERROR'''\u001b[0m\u001b[0;34m\u001b[0m\u001b[0m\n",
      "\u001b[0;31mTypeError\u001b[0m: 'tuple' object does not support item assignment"
     ]
    }
   ],
   "source": [
    "'''Tuples are immutable'''\n",
    "tup2 = (1,2,3)\n",
    "tup2[0] = 4\n",
    "'''THIS WILL THROW AN ERROR'''"
   ]
  },
  {
   "cell_type": "code",
   "execution_count": 8,
   "metadata": {},
   "outputs": [
    {
     "name": "stdout",
     "output_type": "stream",
     "text": [
      "tup2: (1, 2, 3)\n",
      "tup2: (4, 2, 3)\n"
     ]
    }
   ],
   "source": [
    "'''If you wanted to change tup2[0] to 4 you would need to do this'''\n",
    "tup2 = (1,2,3)\n",
    "print(\"tup2: {}\".format(tup2))\n",
    "tup2 = (4,2,3)\n",
    "print(\"tup2: {}\".format(tup2))"
   ]
  },
  {
   "cell_type": "markdown",
   "metadata": {},
   "source": [
    "# Slicing\n",
    "\n",
    "Slicing is a great tool. It allows us to access ranges of elements with lists in a compact fashion. However, somtimes it can become a bit confsing. We'll introduce it in small steps.\n"
   ]
  },
  {
   "cell_type": "code",
   "execution_count": 9,
   "metadata": {},
   "outputs": [
    {
     "name": "stdout",
     "output_type": "stream",
     "text": [
      "slice of list0: [11, 12, 13, 14]\n",
      "slice of tup0 : (21, 22, 23, 23)\n"
     ]
    }
   ],
   "source": [
    "'''Both lists and tuples can be sliced.'''\n",
    "# index  0   1   2   3   4   5   6   7   8   9\n",
    "list0 = [10, 11, 12, 13, 14, 15, 16, 17, 18, 19]\n",
    "tup0  = (20, 21, 22, 23, 23, 25, 26, 27, 28, 29)\n",
    "\n",
    "a = list0[1:5]    # slice from idx 1 to idx 4 (the ending idx in NOT inclusice) the reason will make sense later\n",
    "b = tup0[1:5]\n",
    "\n",
    "print(\"slice of list0: {}\".format(a))\n",
    "print(\"slice of tup0 : {}\".format(b))"
   ]
  },
  {
   "cell_type": "code",
   "execution_count": 10,
   "metadata": {},
   "outputs": [
    {
     "name": "stdout",
     "output_type": "stream",
     "text": [
      "c: [10, 11, 12]\n",
      "d: [10, 11, 12]\n",
      "\n",
      "e: [13, 14, 15, 16, 17, 18, 19]\n",
      "f: [13, 14, 15, 16, 17, 18, 19]\n",
      "\n",
      "g: 19\n",
      "h: 19\n",
      "i: 16\n",
      "j: 16\n"
     ]
    }
   ],
   "source": [
    "'''\n",
    "Because we'll be primarilly working with lists in \n",
    "the worksope we'll just work with lists for not,\n",
    "but all these oporations\n",
    "are valid with tuples too.\n",
    "'''\n",
    "\n",
    "'''The 2 oporations below are equivalent'''\n",
    "c = list0[0:3]\n",
    "d = list0[:3]\n",
    "print(\"c: {}\".format(c))\n",
    "print(\"d: {}\\n\".format(d))\n",
    "\n",
    "'''The 2 oporations below are also equivalent'''\n",
    "e = list0[3:10]   # Note: Because the 10 is not inclusive we are not indexing outside the array\n",
    "                  #       but this can be confusing so the following syntax is prefered\n",
    "f = list0[3:]  \n",
    "print(\"e: {}\".format(e))\n",
    "print(\"f: {}\\n\".format(f))\n",
    "\n",
    "'''Using negitave indexes allow you to access elements from the end of the list'''\n",
    "g = list0[9]\n",
    "h = list0[-1]         # This is a handy way to access the last element of a list\n",
    "i = list0[6]\n",
    "j = list0[-4]\n",
    "print(\"g: {}\".format(g))\n",
    "print(\"h: {}\".format(h))\n",
    "print(\"i: {}\".format(i))\n",
    "print(\"j: {}\".format(j))"
   ]
  },
  {
   "cell_type": "code",
   "execution_count": 11,
   "metadata": {},
   "outputs": [
    {
     "name": "stdout",
     "output_type": "stream",
     "text": [
      "a: [11, 13, 15, 17]\n",
      "b: [11, 13, 15, 17, 19]\n",
      "c: [10, 12, 14, 16, 18]\n",
      "d: [19, 17, 15, 13, 11]\n"
     ]
    }
   ],
   "source": [
    "'''\n",
    "You can also slice in steps (ie: every 2nd element)\n",
    "\n",
    "'''\n",
    "# Just redefining list0 for reference.\n",
    "list0 = [10, 11, 12, 13, 14, 15, 16, 17, 18, 19]\n",
    "\n",
    "a = list0[1:8:2]\n",
    "print(\"a: {}\".format(a))\n",
    "\n",
    "'''\n",
    "If we omit the 8 we can take evey 2nd element,\n",
    "starting at index 1 and going to the end\n",
    "'''\n",
    "b = list0[1::2]\n",
    "print(\"b: {}\".format(b))\n",
    "\n",
    "'''\n",
    "If we omit the 1 we can take every 2nd element\n",
    "starting at the 0th element and going to the end.\n",
    "'''\n",
    "c = list0[::2]\n",
    "print(\"c: {}\".format(c))\n",
    "\n",
    "'''We can even go in reverse'''\n",
    "d = list0[-1:0:-2]\n",
    "print(\"d: {}\".format(d))"
   ]
  },
  {
   "cell_type": "markdown",
   "metadata": {},
   "source": [
    "Python list vs Numpy array."
   ]
  },
  {
   "cell_type": "code",
   "execution_count": 12,
   "metadata": {},
   "outputs": [
    {
     "name": "stdout",
     "output_type": "stream",
     "text": [
      "[[0. 0.]\n",
      " [0. 0.]]\n",
      "[[1. 1. 1.]\n",
      " [1. 1. 1.]\n",
      " [1. 1. 1.]]\n"
     ]
    },
    {
     "ename": "NameError",
     "evalue": "name 'fives' is not defined",
     "output_type": "error",
     "traceback": [
      "\u001b[0;31m---------------------------------------------------------------------------\u001b[0m",
      "\u001b[0;31mNameError\u001b[0m                                 Traceback (most recent call last)",
      "\u001b[0;32m<ipython-input-12-aca3ac3135d7>\u001b[0m in \u001b[0;36m<module>\u001b[0;34m()\u001b[0m\n\u001b[1;32m     15\u001b[0m \u001b[0;34m'''Broadcasting'''\u001b[0m\u001b[0;34m\u001b[0m\u001b[0m\n\u001b[1;32m     16\u001b[0m \u001b[0mnp_fives\u001b[0m \u001b[0;34m=\u001b[0m \u001b[0mones\u001b[0m\u001b[0;34m*\u001b[0m\u001b[0;36m5\u001b[0m\u001b[0;34m\u001b[0m\u001b[0m\n\u001b[0;32m---> 17\u001b[0;31m \u001b[0mprint\u001b[0m\u001b[0;34m(\u001b[0m\u001b[0mfives\u001b[0m\u001b[0;34m)\u001b[0m\u001b[0;34m\u001b[0m\u001b[0m\n\u001b[0m\u001b[1;32m     18\u001b[0m \u001b[0;34m\u001b[0m\u001b[0m\n\u001b[1;32m     19\u001b[0m '''\n",
      "\u001b[0;31mNameError\u001b[0m: name 'fives' is not defined"
     ]
    }
   ],
   "source": [
    "'''Stock standard python lists'''\n",
    "my_list = [10, 11, 12, 13]\n",
    "list_of_lists = [[10, 11],[12,13]]\n",
    "\n",
    "'''numpy arrays are declared like so'''\n",
    "my_np_array = np.array([10, 11, 12, 13])\n",
    "my_2n_np_array = np.array([[10, 11],[12, 13]])\n",
    "\n",
    "zeros = np.zeros([2,2])\n",
    "print(zeros)\n",
    "\n",
    "ones = np.ones([3,3])\n",
    "print(ones)\n",
    "\n",
    "'''Broadcasting'''\n",
    "np_fives = ones*5\n",
    "print(fives)\n",
    "\n",
    "'''\n",
    "    Note this oporation does not have the same behaviour\n",
    "    when using python lists\n",
    "'''\n",
    " \n",
    "py_fives = [1,1,1,1,1]*5\n",
    "print(my_other_list)"
   ]
  },
  {
   "cell_type": "markdown",
   "metadata": {},
   "source": [
    "Array Shape"
   ]
  },
  {
   "cell_type": "code",
   "execution_count": null,
   "metadata": {},
   "outputs": [],
   "source": [
    "print(np.shpae(x))"
   ]
  },
  {
   "cell_type": "markdown",
   "metadata": {},
   "source": [
    "Array slicing"
   ]
  },
  {
   "cell_type": "code",
   "execution_count": 5,
   "metadata": {},
   "outputs": [],
   "source": [
    "a = my_list[4]\n",
    "b = my_list[-1]"
   ]
  },
  {
   "cell_type": "code",
   "execution_count": null,
   "metadata": {},
   "outputs": [],
   "source": []
  }
 ],
 "metadata": {
  "kernelspec": {
   "display_name": "Python [conda env:conv-vae]",
   "language": "python",
   "name": "conda-env-conv-vae-py"
  },
  "language_info": {
   "codemirror_mode": {
    "name": "ipython",
    "version": 3
   },
   "file_extension": ".py",
   "mimetype": "text/x-python",
   "name": "python",
   "nbconvert_exporter": "python",
   "pygments_lexer": "ipython3",
   "version": "3.6.4"
  }
 },
 "nbformat": 4,
 "nbformat_minor": 2
}
